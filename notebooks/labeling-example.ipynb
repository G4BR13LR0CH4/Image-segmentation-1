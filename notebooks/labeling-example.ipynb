{
 "cells": [
  {
   "cell_type": "markdown",
   "metadata": {},
   "source": [
    "# Imports"
   ]
  },
  {
   "cell_type": "code",
   "execution_count": null,
   "metadata": {},
   "outputs": [],
   "source": [
    "%matplotlib widget\n",
    "\n",
    "#set up relative import\n",
    "import os, sys\n",
    "module_path = os.path.abspath(os.path.join('../'))\n",
    "if module_path not in sys.path:\n",
    "    sys.path.append(module_path)\n",
    "\n",
    "\n",
    "#import out libraries\n",
    "from lib.utils import image_conversion\n",
    "from lib.labelling import *\n",
    "# from lib.segmentation import *\n",
    "\n",
    "#other useful things\n",
    "import tensorflow as tf\n",
    "import numpy as np\n",
    "import matplotlib.pyplot as plt\n",
    "from sidecar import Sidecar\n"
   ]
  },
  {
   "cell_type": "markdown",
   "metadata": {},
   "source": [
    "# Do segmentation"
   ]
  },
  {
   "cell_type": "code",
   "execution_count": null,
   "metadata": {},
   "outputs": [],
   "source": [
    "plt.close('all')\n",
    "\n",
    "img_dir = \"../data/01\"\n",
    "image_conversion(f\"{img_dir}/train\")\n",
    "obj = image_segmenter(img_dir, [\"Verificado\", 'C2S','C3S', 'Poros', 'Cal', 'Magnésio'])\n",
    "\n",
    "\n",
    "\n",
    "sc = Sidecar(title='Segmentation area')\n",
    "with sc:\n",
    "    display(obj)\n"
   ]
  }
 ],
 "metadata": {
  "kernelspec": {
   "display_name": "Python 3",
   "language": "python",
   "name": "python3"
  },
  "language_info": {
   "codemirror_mode": {
    "name": "ipython",
    "version": 3
   },
   "file_extension": ".py",
   "mimetype": "text/x-python",
   "name": "python",
   "nbconvert_exporter": "python",
   "pygments_lexer": "ipython3",
   "version": "3.9.7"
  }
 },
 "nbformat": 4,
 "nbformat_minor": 4
}
